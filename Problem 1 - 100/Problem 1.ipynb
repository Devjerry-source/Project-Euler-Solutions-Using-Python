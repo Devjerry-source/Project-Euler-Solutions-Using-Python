{
 "cells": [
  {
   "cell_type": "markdown",
   "metadata": {},
   "source": [
    "### Solving <a href=\"https://projecteuler.net/problem=1\" target=\"_blank\">Problem 1 on Project Euler</a>: Multiples of 3 and 5\n",
    "\n",
    "\n",
    "If we list all the natural numbers below 10 that are multiples of 3 or 5, we get 3, 5, 6 and 9. The sum of these multiples is 23.\n",
    "\n",
    "Find the sum of all the multiples of 3 or 5 below 1000."
   ]
  },
  {
   "cell_type": "code",
   "execution_count": 6,
   "metadata": {},
   "outputs": [
    {
     "name": "stdout",
     "output_type": "stream",
     "text": [
      "233168\n"
     ]
    }
   ],
   "source": [
    "def sumNumbers(n):\n",
    "    i = 1\n",
    "    ListofNumbers = []\n",
    "    while i < n: # while the current number is less than n\n",
    "        if (i%3) == 0 or (i%5) == 0:  # Check if i is divisible by 3 or 5\n",
    "            ListofNumbers.append(i) # append the number to our list\n",
    "        else:\n",
    "            pass\n",
    "        i += 1   # increment i until it is equal to n\n",
    "    return sum(ListofNumbers) # return the sum of list\n",
    "\n",
    "x = sumNumbers(1000) # Tests the function\n",
    "print(x)            "
   ]
  },
  {
   "cell_type": "code",
   "execution_count": null,
   "metadata": {},
   "outputs": [],
   "source": []
  }
 ],
 "metadata": {
  "kernelspec": {
   "display_name": "Python 3",
   "language": "python",
   "name": "python3"
  },
  "language_info": {
   "codemirror_mode": {
    "name": "ipython",
    "version": 3
   },
   "file_extension": ".py",
   "mimetype": "text/x-python",
   "name": "python",
   "nbconvert_exporter": "python",
   "pygments_lexer": "ipython3",
   "version": "3.7.6"
  }
 },
 "nbformat": 4,
 "nbformat_minor": 4
}
